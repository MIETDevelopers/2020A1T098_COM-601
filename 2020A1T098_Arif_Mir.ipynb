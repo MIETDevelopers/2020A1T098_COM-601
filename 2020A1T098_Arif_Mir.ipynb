{
 "cells": [
  {
   "cell_type": "code",
   "execution_count": null,
   "id": "e0a32155",
   "metadata": {},
   "outputs": [],
   "source": [
    "import pandas as ps\n",
    "import seaborn as sb\n",
    "import matplotlib.pyplot as plt"
   ]
  },
  {
   "cell_type": "code",
   "execution_count": null,
   "id": "fda04e67",
   "metadata": {},
   "outputs": [],
   "source": [
    "ratings = pd.read_table('ratings.dat')\n",
    "users = pd.read_table('tags.dat')\n",
    "movies = pd.read_table('movies.dat')\n",
    "\n",
    "print(ratings.isnull().sum())\n",
    "print(users.isnull().sum())\n",
    "print(movies.isnull().sum())"
   ]
  },
  {
   "cell_type": "code",
   "execution_count": null,
   "id": "96a8c136",
   "metadata": {},
   "outputs": [],
   "source": [
    "sns.boxplot(x=ratings['Gender'], y=ratings['Rating'], data=ps.merge(ratings, users))\n",
    "sns.violinplot(x=ratings['Age'], y=ratings['Rating'], data=pd.merge(ratings,users))"
   ]
  },
  {
   "cell_type": "code",
   "execution_count": null,
   "id": "d0be260e",
   "metadata": {},
   "outputs": [],
   "source": [
    "ratings = pd.read_table('ratings.dat', sep='::', header=None, names=['user_id', 'movie_id', 'rating', 'timestamp'])\n",
    "\n",
    "sns.scatterplot(x='Timestamp', y='Rating', data=ratings)\n",
    "\n",
    "plt.hist(ratings['rating'], alpha=1.5, label='Rating')\n",
    "plt.hist(ratings['timestamp'], alpha=1.5, label='Timestamp')\n",
    "plt.legend()\n",
    "plt.show()"
   ]
  },
  {
   "cell_type": "code",
   "execution_count": null,
   "id": "d4641cdf",
   "metadata": {},
   "outputs": [],
   "source": [
    "sns.histplot(x='Rating', data=ratings, bins=10)\n",
    "sns.boxplot(x='Rating', data=ratings)\n",
    "sns.scatterplot(x='Timestamp', y='Rating', data=ratings)\n",
    "\n",
    "print(ratings['Rating'].describe())\n",
    "print(ratings['Rating'].corr(ratings['Timestamp']))"
   ]
  },
  {
   "cell_type": "code",
   "execution_count": null,
   "id": "924d9d7d",
   "metadata": {},
   "outputs": [],
   "source": [
    "print(df.describe())"
   ]
  },
  {
   "cell_type": "code",
   "execution_count": null,
   "id": "9818eaa3",
   "metadata": {},
   "outputs": [],
   "source": [
    "print(\"Dimensions of dataset:\", df.shape)\n",
    "print(\"Variable names:\", df.columns)\n",
    "print(\"Data types:\\n\", df.dtypes)"
   ]
  },
  {
   "cell_type": "code",
   "execution_count": null,
   "id": "0faad107",
   "metadata": {},
   "outputs": [],
   "source": [
    "print(\"Number of null values:\\n\", df.isnull().sum())"
   ]
  },
  {
   "cell_type": "code",
   "execution_count": null,
   "id": "0278857a",
   "metadata": {},
   "outputs": [],
   "source": [
    "target_counts = df['Outcome'].value_counts()\n",
    "plt.pie(target_counts, labels=['Non-diabetic', 'Diabetic'], autopct='%1.1f%%')\n",
    "plt.show()\n",
    "\n",
    "sns.countplot(x='Outcome', data=df)\n",
    "plt.show()"
   ]
  },
  {
   "cell_type": "code",
   "execution_count": null,
   "id": "5224044f",
   "metadata": {},
   "outputs": [],
   "source": [
    "corr = df.corr()\n",
    "sns.heatmap(corr, cmap='coolwarm', annot=True, fmt='.2f')\n",
    "plt.show()\n",
    "\n",
    "sns.pairplot(df, hue='Outcome')\n",
    "plt.show()"
   ]
  }
 ],
 "metadata": {
  "kernelspec": {
   "display_name": "Python 3 (ipykernel)",
   "language": "python",
   "name": "python3"
  },
  "language_info": {
   "codemirror_mode": {
    "name": "ipython",
    "version": 3
   },
   "file_extension": ".py",
   "mimetype": "text/x-python",
   "name": "python",
   "nbconvert_exporter": "python",
   "pygments_lexer": "ipython3",
   "version": "3.9.7"
  }
 },
 "nbformat": 4,
 "nbformat_minor": 5
}
